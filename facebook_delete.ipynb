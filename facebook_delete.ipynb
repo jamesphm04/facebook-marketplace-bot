{
 "cells": [
  {
   "cell_type": "code",
   "execution_count": 6,
   "metadata": {},
   "outputs": [],
   "source": [
    "from helpers.scraper import Scraper\n",
    "from helpers.csv_helper import get_data_from_csv\n",
    "from helpers.listing_helper import update_listings\n",
    "import time\n",
    "\n",
    "scraper = Scraper('https://facebook.com')\n",
    "\n",
    "# Add login functionality to the scraper\n",
    "scraper.add_login_functionality('https://facebook.com', 'svg[aria-label=\"Your profile\"]', 'facebook')\n",
    "scraper.go_to_page('https://www.facebook.com/marketplace/you/selling')\n",
    "\n",
    "delete_listing = get_data_from_csv('./delete_items.csv')"
   ]
  },
  {
   "cell_type": "code",
   "execution_count": 7,
   "metadata": {},
   "outputs": [],
   "source": [
    "data = delete_listing[0]"
   ]
  },
  {
   "cell_type": "code",
   "execution_count": 8,
   "metadata": {},
   "outputs": [],
   "source": [
    "# scraper.element_delete_text('input[aria-label=\"Search your listings\"]')\n",
    "# scraper.element_send_keys('input[aria-label=\"Search your listings\"]', data['Name'])\n",
    "# scraper.element_click('div[aria-label=\"More\"]')\n",
    "# scraper.element_click_by_xpath('//span[text()=\"Delete Listing\"]')   "
   ]
  },
  {
   "cell_type": "code",
   "execution_count": 9,
   "metadata": {},
   "outputs": [],
   "source": [
    "def delete_item_by_name(data, scraper: Scraper):\n",
    "    try:\n",
    "        scraper.element_delete_text('input[aria-label=\"Search your listings\"]')\n",
    "        scraper.element_send_keys('input[aria-label=\"Search your listings\"]', data['Name'])\n",
    "        time.sleep(2)\n",
    "        scraper.element_click('div[aria-label=\"More\"]')\n",
    "        scraper.element_click_by_xpath('//span[text()=\"Delete Listing\"]')   \n",
    "        time.sleep(2)\n",
    "        \n",
    "        try: \n",
    "            scraper.element_click_by_xpath('//span[text()=\"Delete\"]')\n",
    "        except:\n",
    "            scraper.find_multiple_elements_by_xpath('//div[@class=\"x9f619 x1n2onr6 x1ja2u2z x78zum5 xdt5ytf x2lah0s x193iq5w xeuugli x150jy0e x1e558r4 xjkvuk6 x1iorvi4 xdl72j9\"]', 1).click()\n",
    "            scraper.element_click_by_xpath(f'//span[text()=\"{data[\"Reason\"]}\"]')   \n",
    "            scraper.element_click('div[aria-label=\"Next\"]')\n",
    "        time.sleep(2)\n",
    "        print(f\"Listing {data['Name']} is deleted successfully\")\n",
    "    except:\n",
    "        print(f\"Listing {data['Name']} is not deleted successfully\")\n",
    "\n",
    "    "
   ]
  },
  {
   "cell_type": "code",
   "execution_count": 10,
   "metadata": {},
   "outputs": [
    {
     "name": "stdout",
     "output_type": "stream",
     "text": [
      "ERROR: Timed out waiting for the element with xpath \"//div[@class=\"x9f619 x1n2onr6 x1ja2u2z x78zum5 xdt5ytf x2lah0s x193iq5w xeuugli x150jy0e x1e558r4 xjkvuk6 x1iorvi4 xdl72j9\"]\" to load\n",
      "Listing Land Cruiser rims good condition is deleted successfully\n",
      "ERROR: Timed out waiting for the element with xpath \"//div[@class=\"x9f619 x1n2onr6 x1ja2u2z x78zum5 xdt5ytf x2lah0s x193iq5w xeuugli x150jy0e x1e558r4 xjkvuk6 x1iorvi4 xdl72j9\"]\" to load\n",
      "Listing Ford Ranger rims good condition is deleted successfully\n",
      "ERROR: Timed out waiting for the element with xpath \"//div[@class=\"x9f619 x1n2onr6 x1ja2u2z x78zum5 xdt5ytf x2lah0s x193iq5w xeuugli x150jy0e x1e558r4 xjkvuk6 x1iorvi4 xdl72j9\"]\" to load\n",
      "Listing Rav4 Toyota rims good condition is deleted successfully\n",
      "ERROR: Timed out waiting for the element with xpath \"//div[@class=\"x9f619 x1n2onr6 x1ja2u2z x78zum5 xdt5ytf x2lah0s x193iq5w xeuugli x150jy0e x1e558r4 xjkvuk6 x1iorvi4 xdl72j9\"]\" to load\n",
      "Listing Santa Fe rims good condition is deleted successfully\n",
      "ERROR: Timed out waiting for the element with xpath \"//div[@class=\"x9f619 x1n2onr6 x1ja2u2z x78zum5 xdt5ytf x2lah0s x193iq5w xeuugli x150jy0e x1e558r4 xjkvuk6 x1iorvi4 xdl72j9\"]\" to load\n",
      "Listing Sorento rims good condition is deleted successfully\n",
      "ERROR: Timed out waiting for the element with xpath \"//div[@class=\"x9f619 x1n2onr6 x1ja2u2z x78zum5 xdt5ytf x2lah0s x193iq5w xeuugli x150jy0e x1e558r4 xjkvuk6 x1iorvi4 xdl72j9\"]\" to load\n",
      "Listing Staria rims good condition is deleted successfully\n",
      "ERROR: Timed out waiting for the element with xpath \"//div[@class=\"x9f619 x1n2onr6 x1ja2u2z x78zum5 xdt5ytf x2lah0s x193iq5w xeuugli x150jy0e x1e558r4 xjkvuk6 x1iorvi4 xdl72j9\"]\" to load\n",
      "Listing Huyndai Tucson rims good condition is deleted successfully\n",
      "ERROR: Timed out waiting for the element with xpath \"//div[@class=\"x9f619 x1n2onr6 x1ja2u2z x78zum5 xdt5ytf x2lah0s x193iq5w xeuugli x150jy0e x1e558r4 xjkvuk6 x1iorvi4 xdl72j9\"]\" to load\n",
      "Listing Volkswagen rims good condition is deleted successfully\n"
     ]
    }
   ],
   "source": [
    "for item in delete_listing:\n",
    "    delete_item_by_name(item, scraper)\n",
    "scraper.__del__()"
   ]
  },
  {
   "cell_type": "code",
   "execution_count": null,
   "metadata": {},
   "outputs": [],
   "source": []
  }
 ],
 "metadata": {
  "kernelspec": {
   "display_name": ".venv",
   "language": "python",
   "name": "python3"
  },
  "language_info": {
   "codemirror_mode": {
    "name": "ipython",
    "version": 3
   },
   "file_extension": ".py",
   "mimetype": "text/x-python",
   "name": "python",
   "nbconvert_exporter": "python",
   "pygments_lexer": "ipython3",
   "version": "3.10.12"
  }
 },
 "nbformat": 4,
 "nbformat_minor": 2
}
