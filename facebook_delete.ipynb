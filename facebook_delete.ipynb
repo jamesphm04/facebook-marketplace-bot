{
 "cells": [
  {
   "cell_type": "code",
   "execution_count": 1,
   "metadata": {},
   "outputs": [],
   "source": [
    "from helpers.scraper import Scraper\n",
    "from helpers.csv_helper import get_data_from_csv\n",
    "from selenium.webdriver.common.by import By\n",
    "import time\n",
    "\n",
    "scraper = Scraper('https://facebook.com')\n",
    "\n",
    "# Add login functionality to the scraper\n",
    "scraper.add_login_functionality('https://facebook.com', 'svg[aria-label=\"Your profile\"]', 'facebook')\n",
    "scraper.go_to_page('https://www.facebook.com/marketplace/you/selling')\n",
    "\n",
    "delete_listing = get_data_from_csv('./delete_items.csv')"
   ]
  },
  {
   "cell_type": "code",
   "execution_count": 2,
   "metadata": {},
   "outputs": [],
   "source": [
    "# data = delete_listing[0]\n",
    "# scraper.element_delete_text('input[aria-label=\"Search your listings\"]')\n",
    "# scraper.element_send_keys('input[aria-label=\"Search your listings\"]', data['Name'])\n",
    "# scraper.element_click('div[aria-label=\"More\"]')\n",
    "# scraper.element_click_by_xpath('//span[text()=\"Delete Listing\"]')   "
   ]
  },
  {
   "cell_type": "code",
   "execution_count": 3,
   "metadata": {},
   "outputs": [],
   "source": [
    "def delete_item_by_name(data, scraper: Scraper):\n",
    "    try:\n",
    "        scraper.element_delete_text('input[aria-label=\"Search your listings\"]')\n",
    "        scraper.element_send_keys('input[aria-label=\"Search your listings\"]', data['Name'])\n",
    "        time.sleep(2)\n",
    "        \n",
    "        scraper.element_click('div[aria-label=\"More\"]')\n",
    "        scraper.element_click_by_xpath('//span[text()=\"Delete Listing\"]')   \n",
    "        time.sleep(2)\n",
    "        \n",
    "        scraper.find_element_by_xpath('//div[@aria-label=\"Cancel\"]/parent::div/parent::div').find_elements(By.XPATH, '*')[0].click()\n",
    "        \n",
    "        if scraper.find_element('div[aria-label=\"Next\"]', False):\n",
    "            scraper.element_click('div[aria-label=\"Next\"]')\n",
    "            time.sleep(2)\n",
    "            \n",
    "        print(f\"Listing {data['Name']} is deleted successfully\")\n",
    "    except:\n",
    "        print(f\"Listing {data['Name']} is not deleted successfully\")"
   ]
  },
  {
   "cell_type": "code",
   "execution_count": 4,
   "metadata": {},
   "outputs": [
    {
     "name": "stdout",
     "output_type": "stream",
     "text": [
      "Listing Commodore rims good condition is deleted successfully\n",
      "Listing Escape rims good condition is deleted successfully\n",
      "Listing D90 rims good condition is deleted successfully\n"
     ]
    }
   ],
   "source": [
    "for item in delete_listing:\n",
    "    delete_item_by_name(item, scraper)\n",
    "scraper.__del__()"
   ]
  },
  {
   "cell_type": "code",
   "execution_count": null,
   "metadata": {},
   "outputs": [],
   "source": []
  }
 ],
 "metadata": {
  "kernelspec": {
   "display_name": ".venv",
   "language": "python",
   "name": "python3"
  },
  "language_info": {
   "codemirror_mode": {
    "name": "ipython",
    "version": 3
   },
   "file_extension": ".py",
   "mimetype": "text/x-python",
   "name": "python",
   "nbconvert_exporter": "python",
   "pygments_lexer": "ipython3",
   "version": "3.10.12"
  }
 },
 "nbformat": 4,
 "nbformat_minor": 2
}
