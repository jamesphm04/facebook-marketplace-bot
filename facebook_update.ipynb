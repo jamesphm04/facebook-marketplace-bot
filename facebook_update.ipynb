{
 "cells": [
  {
   "cell_type": "code",
   "execution_count": 1,
   "metadata": {},
   "outputs": [],
   "source": [
    "from helpers.scraper import Scraper\n",
    "from helpers.csv_helper import get_data_from_csv\n",
    "import time\n",
    "\n",
    "scraper = Scraper('https://facebook.com')\n",
    "\n",
    "# Add login functionality to the scraper\n",
    "scraper.add_login_functionality('https://facebook.com', 'svg[aria-label=\"Your profile\"]', 'facebook')\n",
    "scraper.go_to_page('https://www.facebook.com/marketplace/you/selling')\n",
    "\n",
    "update_listing = get_data_from_csv('./update_items.csv')"
   ]
  },
  {
   "cell_type": "code",
   "execution_count": 2,
   "metadata": {},
   "outputs": [],
   "source": [
    "def update_item_by_name(item, scraper: Scraper):\n",
    "    try:\n",
    "        scraper.element_delete_text('input[aria-label=\"Search your listings\"]')\n",
    "        scraper.element_send_keys('input[aria-label=\"Search your listings\"]', item['name'])\n",
    "        time.sleep(2)\n",
    "        scraper.element_click('div[aria-label=\"More\"]')\n",
    "        scraper.element_click_by_xpath('//span[text()=\"Edit Listing\"]')   \n",
    "        time.sleep(2)\n",
    "        scraper.element_delete_text('label[aria-label=\"Price\"] input')\n",
    "        scraper.element_send_keys('label[aria-label=\"Price\"] input', item['price'])\n",
    "        time.sleep(1)\n",
    "        scraper.scroll_to_element('label[aria-label=\"Category\"]')\n",
    "        time.sleep(1)\n",
    "        scraper.element_click('label[aria-label=\"Condition\"]')\n",
    "        scraper.element_click_by_xpath(f'//div[@aria-selected]/div/div/div/span[text()=\"{item[\"condition\"]}\"]')\n",
    "        time.sleep(1)\n",
    "        scraper.scroll_to_element('input[aria-label=\"Location\"]')\n",
    "        time.sleep(1)\n",
    "        scraper.element_delete_text('input[aria-label=\"Location\"]')\n",
    "        scraper.element_send_keys('input[aria-label=\"Location\"]', item['location'])\n",
    "        time.sleep(2)\n",
    "        scraper.find_multiple_elements_by_xpath('//ul[@aria-label=\"5 suggested searches\"]/li', 0).click()\n",
    "        scraper.element_click('div[aria-label=\"Update\"]')\n",
    "        time.sleep(5)\n",
    "        print(f\"Listing {item['Name']} is updated successfully\")\n",
    "    except:\n",
    "        print(f\"Listing {item['Name']} is not updated successfully\")\n",
    "\n",
    "    "
   ]
  },
  {
   "cell_type": "code",
   "execution_count": 3,
   "metadata": {},
   "outputs": [
    {
     "name": "stdout",
     "output_type": "stream",
     "text": [
      "Listing Porsche 911 rims good condition is updated successfully\n"
     ]
    }
   ],
   "source": [
    "for item in update_listing:\n",
    "    update_item_by_name(item, scraper)\n",
    "scraper.__del__()"
   ]
  },
  {
   "cell_type": "code",
   "execution_count": null,
   "metadata": {},
   "outputs": [],
   "source": []
  }
 ],
 "metadata": {
  "kernelspec": {
   "display_name": ".venv",
   "language": "python",
   "name": "python3"
  },
  "language_info": {
   "codemirror_mode": {
    "name": "ipython",
    "version": 3
   },
   "file_extension": ".py",
   "mimetype": "text/x-python",
   "name": "python",
   "nbconvert_exporter": "python",
   "pygments_lexer": "ipython3",
   "version": "3.10.12"
  }
 },
 "nbformat": 4,
 "nbformat_minor": 2
}
