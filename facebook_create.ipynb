{
 "cells": [
  {
   "cell_type": "code",
   "execution_count": 1,
   "metadata": {},
   "outputs": [],
   "source": [
    "from helpers.scraper import Scraper\n",
    "from helpers.csv_helper import get_data_from_csv\n",
    "from helpers.listing_helper import update_listings\n",
    "\n",
    "scraper = Scraper('https://facebook.com')\n",
    "\n",
    "# Add login functionality to the scraper\n",
    "scraper.add_login_functionality('https://facebook.com', 'svg[aria-label=\"Your profile\"]', 'facebook')\n",
    "scraper.go_to_page('https://facebook.com/marketplace/you/selling')\n",
    "\n",
    "# Get data for item type listings from csvs/items.csv\n",
    "item_listings = get_data_from_csv('./create_items.csv')\n",
    "# Publish all of the items into the facebook marketplace\n",
    "update_listings(item_listings[5:], 'item', scraper)"
   ]
  }
 ],
 "metadata": {
  "kernelspec": {
   "display_name": ".venv",
   "language": "python",
   "name": "python3"
  },
  "language_info": {
   "codemirror_mode": {
    "name": "ipython",
    "version": 3
   },
   "file_extension": ".py",
   "mimetype": "text/x-python",
   "name": "python",
   "nbconvert_exporter": "python",
   "pygments_lexer": "ipython3",
   "version": "3.10.12"
  }
 },
 "nbformat": 4,
 "nbformat_minor": 2
}
